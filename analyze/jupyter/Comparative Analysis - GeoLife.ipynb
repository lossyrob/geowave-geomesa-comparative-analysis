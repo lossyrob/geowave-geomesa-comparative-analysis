{
 "cells": [
  {
   "cell_type": "code",
   "execution_count": 18,
   "metadata": {
    "collapsed": true
   },
   "outputs": [],
   "source": [
    "%matplotlib inline\n",
    "import pandas as pd\n",
    "import numpy as np\n",
    "import matplotlib.pyplot as plt\n",
    "from functools import reduce\n",
    "\n",
    "import numpy as np\n",
    "from sklearn import datasets, linear_model\n",
    "\n",
    "plt.style.use('ggplot')\n",
    "\n",
    "def result_path(n):\n",
    "    return \"/Users/rob/proj/lt/gwgm/jupyter-results/%s\" % n\n",
    "\n",
    "def remove_outiers(df):\n",
    "    Q1 = df['duration'].quantile(0.25)\n",
    "    Q3 = df['duration'].quantile(0.75)\n",
    "    IQR = Q3 - Q1\n",
    "\n",
    "    #Values between Q1-1.5IQR and Q3+1.5IQR\n",
    "    return df.query('(@Q1 - 1.5 * @IQR) <= duration <= (@Q3 + 1.5 * @IQR)')"
   ]
  },
  {
   "cell_type": "code",
   "execution_count": 4,
   "metadata": {
    "collapsed": false
   },
   "outputs": [],
   "source": [
    "results = pd.read_csv(\"/Users/rob/proj/lt/gwgm/geowave-geomesa-comparative-analysis/analyze/gwgm-ca-run-results-Sept29.csv\")"
   ]
  },
  {
   "cell_type": "code",
   "execution_count": 67,
   "metadata": {
    "collapsed": true
   },
   "outputs": [],
   "source": [
    "# results[results.clusterId == \"j-3600OD0Q6ZXZV\"].to_csv(result_path(\"geolife-gm-cluster.csv\"))\n",
    "def get_qn(qn, df, r=True):\n",
    "    q = df[df.queryName.str.contains(qn)]\n",
    "    if r:\n",
    "        return remove_outiers(q)\n",
    "    else:\n",
    "        return q"
   ]
  },
  {
   "cell_type": "code",
   "execution_count": null,
   "metadata": {
    "collapsed": true
   },
   "outputs": [],
   "source": []
  },
  {
   "cell_type": "code",
   "execution_count": 218,
   "metadata": {
    "collapsed": false
   },
   "outputs": [
    {
     "data": {
      "text/plain": [
       "14544"
      ]
     },
     "execution_count": 218,
     "metadata": {},
     "output_type": "execute_result"
    }
   ],
   "source": [
    "# Eldest before Sept 28. This is with 3 nodes.\n",
    "# gm_results = results[results.clusterId == \"j-3600OD0Q6ZXZV\"]\n",
    "# gw_results = results[results.clusterId == \"j-1CLETSC45VWKT\"]\n",
    "\n",
    "# Last cluster\n",
    "gw_results = results[results.clusterId == \"j-3CMGX2QB1GK2X\"]\n",
    "gm_results = results[results.clusterId == \"j-1MZCPXBF9AV9X\"]\n",
    "\n",
    "## First clusters\n",
    "# gw_results = results[results.clusterId == \"j-2NYHBWORGBF0S\"]\n",
    "# gm_results = results[results.clusterId == \"j-3RVGIUNK7SULM\"]\n",
    "\n",
    "# # Third clusters\n",
    "# gw_results = results[results.clusterId == \"j-11FRN8ESB4T4O\"]\n",
    "# gm_results = results[results.clusterId == \"j-14A8QWE1YUDDW\"]\n",
    "\n",
    "# qn = \"GEOLIFE-IN-BEIJING-BBOX-ITERATE\"\n",
    "qn = \"GEOLIFE-BEIJING-BBOXES-ITERATE\"\n",
    "# qn = \"GEOLIFE-IN-CENTER-BEIJING-BBOX-FEB-2011-ITERATE\"\n",
    "# qn = \"GEOLIFE-IN-CENTER-BEIJING-JAN-2011-ITERATE\"\n",
    "# qn = \"GEOLIFE-IN-CENTER-BEIJING-BBOX-FEB-2011-ITERATE\"\n",
    "# gm_results[\"queryName\"]\n",
    "\n",
    "m = get_qn(qn, gm_results)\n",
    "m = m[m.result > 0]\n",
    "ml = m[m[\"queryName\"].str.contains(\"LOOSE\")]\n",
    "m = m[~m[\"queryName\"].str.contains(\"LOOSE\")]\n",
    "w = get_qn(qn, gw_results)\n",
    "w = w[w.result > 0]\n",
    "\n",
    "m.duration.count()\n",
    "#w.duration.count()\n",
    "\n",
    "\n",
    "# m[(m.result >= 1000) & (m.result < 1200)].duration.hist()\n",
    "# w[(w.result >= 1000) & (w.result < 1200)].duration.hist()\n",
    "# print(gw_results)"
   ]
  },
  {
   "cell_type": "code",
   "execution_count": 217,
   "metadata": {
    "collapsed": false
   },
   "outputs": [
    {
     "data": {
      "text/plain": [
       "queryName    0\n",
       "gm_result    0\n",
       "gw_result    0\n",
       "dtype: int64"
      ]
     },
     "execution_count": 217,
     "metadata": {},
     "output_type": "execute_result"
    }
   ],
   "source": [
    "df = w.groupby(\"queryName\")[\"result\"].aggregate({\"min\": np.amin, \"max\": np.amax, \"mean\": np.mean})\n",
    "df[(df['min'] != df['max'])].count()\n",
    "\n",
    "mm = m.groupby(\"queryName\")[[\"result\"]].aggregate(np.amin).reset_index().rename(columns={'result':'gm_result'})\n",
    "wm = w.groupby(\"queryName\")[[\"result\"]].aggregate(np.amin).reset_index().rename(columns={'result':'gw_result'})\n",
    "\n",
    "matched = mm.merge(wm, on=\"queryName\")\n",
    "\n",
    "# matched[(matched.queryName.str.contains(\"ITERATE-32\")) & (matched.gw_result == matched.gm_result)].count()\n",
    "# matched[(matched.queryName.str.contains(\"ITERATE-32\"))].count()\n",
    "\n",
    "without_bad_apples = matched[matched.gw_result == matched.gm_result]\n",
    "matched[matched.gw_result != matched.gm_result].count()\n",
    "# matched[matched.gw_result != matched.gm_result].to_csv(\"/Users/rob/proj/lt/gwgm/GEOLIFE-BAD-APPLES.csv\")\n",
    "#without_bad_apples\n",
    "#ml = ml.merge(without_bad_apples, on=\"queryName\")\n",
    "#m = m.merge(without_bad_apples, on=\"queryName\")\n",
    "#w = w.merge(without_bad_apples, on=\"queryName\")\n",
    "\n"
   ]
  },
  {
   "cell_type": "code",
   "execution_count": 219,
   "metadata": {
    "collapsed": false
   },
   "outputs": [
    {
     "data": {
      "text/plain": [
       "606"
      ]
     },
     "execution_count": 219,
     "metadata": {},
     "output_type": "execute_result"
    }
   ],
   "source": [
    "qns = m[\"queryName\"].unique()\n",
    "len(qns)"
   ]
  },
  {
   "cell_type": "code",
   "execution_count": 170,
   "metadata": {
    "collapsed": false
   },
   "outputs": [
    {
     "data": {
      "image/png": "[encoded data removed]",
      "text/plain": [
       "<matplotlib.figure.Figure at 0x116c99828>"
      ]
     },
     "metadata": {},
     "output_type": "display_data"
    }
   ],
   "source": [
    "# get_qn(qn, gw_results)\n",
    "# w[(w.result >= 1000) & (w.result < 1200)].duration.hist()\n",
    "\n",
    "fig = plt.figure()\n",
    "ax = fig.add_subplot(111)\n",
    "\n",
    "#ml.duration.hist(bins=20, ax=ax, color='yellow')\n",
    "#m.duration.hist(bins=20, ax=ax)\n",
    "\n",
    "w.duration.hist(bins=20, ax=ax, color='b')\n",
    "\n",
    "plt.show()\n",
    "\n",
    "save = True\n",
    "if save:\n",
    "    path = \"/Users/rob/proj/lt/gwgm/geowave-geomesa-comparative-analysis/analyze/pngset/geolife-beijing-center-feb-2011-bbox-gw.png\"\n",
    "    fig.savefig(path, dpi=300, bbox_inches='tight')\n",
    "\n",
    "#m.duration.describe()"
   ]
  },
  {
   "cell_type": "code",
   "execution_count": 134,
   "metadata": {
    "collapsed": false
   },
   "outputs": [
    {
     "name": "stderr",
     "output_type": "stream",
     "text": [
      "/Users/rob/anaconda/lib/python3.5/site-packages/ipykernel/__main__.py:7: SettingWithCopyWarning: \n",
      "A value is trying to be set on a copy of a slice from a DataFrame.\n",
      "Try using .loc[row_indexer,col_indexer] = value instead\n",
      "\n",
      "See the caveats in the documentation: http://pandas.pydata.org/pandas-docs/stable/indexing.html#indexing-view-versus-copy\n",
      "/Users/rob/anaconda/lib/python3.5/site-packages/pandas/tools/plotting.py:3369: UserWarning: To output multiple subplots, the figure containing the passed axes is being cleared\n",
      "  \"the passed axes is being cleared\", UserWarning)\n"
     ]
    },
    {
     "data": {
      "image/png": "[encoded data removed]",
      "text/plain": [
       "<matplotlib.figure.Figure at 0x11a693940>"
      ]
     },
     "metadata": {},
     "output_type": "display_data"
    }
   ],
   "source": [
    "fig = plt.figure()\n",
    "ax = fig.add_subplot(111)\n",
    "ax.set_xlabel('Time')\n",
    "ax.set_ylabel('duration (ms)')\n",
    "plot_columns = { }\n",
    "\n",
    "w[\"system_desc\"] = w.apply(lambda r: \"GeoWave\", axis=1)\n",
    "m[\"system_desc\"] = m.apply(lambda r: \"GeoMesa\", axis=1)\n",
    "ml[\"system_desc\"] = ml.apply(lambda r: \"GeoMesa (loose)\", axis=1)\n",
    "combd = pd.concat([w, m, ml])\n",
    "ax.set_title(title)\n",
    "ax.xaxis.set_visible(False)\n",
    "combd.groupby([\"system_desc\"]).boxplot(column=\"duration\", ax = ax, return_type='axes')\n",
    "\n",
    "\n",
    "plt.show()\n",
    "save = False\n",
    "if save:\n",
    "    path = \"/Users/rob/proj/lt/gwgm/geowave-geomesa-comparative-analysis/analyze/pngset/geolife-beijing-center-aug-2011.png\"\n",
    "    fig.savefig(path, dpi=300, bbox_inches='tight')"
   ]
  },
  {
   "cell_type": "code",
   "execution_count": 226,
   "metadata": {
    "collapsed": false
   },
   "outputs": [
    {
     "data": {
      "image/png": "[encoded data removed]",
      "text/plain": [
       "<matplotlib.figure.Figure at 0x116d97d68>"
      ]
     },
     "metadata": {},
     "output_type": "display_data"
    }
   ],
   "source": [
    "fig = plt.figure()\n",
    "ax = fig.add_subplot(111)\n",
    "ax.set_xlabel('result')\n",
    "ax.set_ylabel('duration (ms)')\n",
    "\n",
    "mm = m[m.result < 10000]\n",
    "wm = w[w.result < 10000]\n",
    "mlm = ml[ml.result < 10000]\n",
    "\n",
    "# sm = m\n",
    "# sw = w\n",
    "# sml = ml\n",
    "\n",
    "sm = mm\n",
    "sw = wm\n",
    "sml = mlm\n",
    "\n",
    "def do_scatter(loose=True):\n",
    "    sm.plot.scatter(x=\"result\", y=\"duration\", ax=ax, color=\"red\")\n",
    "    if loose:\n",
    "        sml.plot.scatter(x=\"result\", y=\"duration\", ax=ax, color=\"yellow\")\n",
    "    sw.plot.scatter(x=\"result\", y=\"duration\", ax=ax)\n",
    "\n",
    "\n",
    "# mm[mm.result < 50000].plot.scatter(x=\"result\", y=\"duration\", ax=ax2, color=\"red\")\n",
    "# wm[wm.result < 50000].plot.scatter(x=\"result\", y=\"duration\", ax=ax2)\n",
    "\n",
    "def do_regression(loose=True):\n",
    "    mx = sm.result.values.reshape(-1,1)\n",
    "    my = sm.duration.values.reshape(-1,1)\n",
    "\n",
    "    regr = linear_model.LinearRegression()\n",
    "    regr.fit(mx, my)\n",
    "\n",
    "    plt.plot(mx, regr.predict(mx), color='orangered', linewidth=1)\n",
    "    \n",
    "    if loose:\n",
    "        mlx = sml.result.values.reshape(-1,1)\n",
    "        mly = sml.duration.values.reshape(-1,1)\n",
    "\n",
    "        regr = linear_model.LinearRegression()\n",
    "        regr.fit(mlx, mly)\n",
    "\n",
    "        plt.plot(mlx, regr.predict(mlx), color='gold', linewidth=1)\n",
    "\n",
    "    wx = sw.result.values.reshape(-1,1)\n",
    "    wy = sw.duration.values.reshape(-1,1)\n",
    "\n",
    "    regr = linear_model.LinearRegression()\n",
    "    regr.fit(wx, wy)\n",
    "\n",
    "    plt.plot(wx, regr.predict(wx), color='lightskyblue', linewidth=1)\n",
    "\n",
    "# do_scatter(True)\n",
    "do_regression(True)\n",
    "# fig.set_figwidth(15)\n",
    "plt.show()\n",
    "\n",
    "save = True\n",
    "# fname = \"geolife-bbox-scatter-with-regression\"\n",
    "fname = \"geolife-bbox-regression-with-loose-less-than-10000\"\n",
    "if save:\n",
    "    path = \"/Users/rob/proj/lt/gwgm/geowave-geomesa-comparative-analysis/analyze/pngset/%s.png\" % fname\n",
    "    fig.savefig(path, dpi=300, bbox_inches='tight')  \n"
   ]
  },
  {
   "cell_type": "code",
   "execution_count": 75,
   "metadata": {
    "collapsed": false
   },
   "outputs": [
    {
     "data": {
      "image/png": "[encoded data removed]",
      "text/plain": [
       "<matplotlib.figure.Figure at 0x1232657f0>"
      ]
     },
     "metadata": {},
     "output_type": "display_data"
    }
   ],
   "source": [
    "\n",
    "\n",
    "mx = m.result.values.reshape(-1,1)\n",
    "my = m.duration.values.reshape(-1,1)\n",
    "\n",
    "regr = linear_model.LinearRegression()\n",
    "regr.fit(mx, my)\n",
    "\n",
    "plt.scatter(mx, my,  color='black')\n",
    "plt.plot(mx, regr.predict(mx), color='blue', linewidth=3)\n",
    "plt.xticks(())\n",
    "plt.yticks(())\n",
    "plt.show()\n"
   ]
  },
  {
   "cell_type": "code",
   "execution_count": null,
   "metadata": {
    "collapsed": true
   },
   "outputs": [],
   "source": []
  }
 ],
 "metadata": {
  "kernelspec": {
   "display_name": "Python [Root]",
   "language": "python",
   "name": "Python [Root]"
  },
  "language_info": {
   "codemirror_mode": {
    "name": "ipython",
    "version": 3
   },
   "file_extension": ".py",
   "mimetype": "text/x-python",
   "name": "python",
   "nbconvert_exporter": "python",
   "pygments_lexer": "ipython3",
   "version": "3.5.2"
  }
 },
 "nbformat": 4,
 "nbformat_minor": 0
}
