{
 "cells": [
  {
   "cell_type": "code",
   "execution_count": 66,
   "metadata": {
    "collapsed": false
   },
   "outputs": [],
   "source": [
    "%matplotlib inline\n",
    "import pandas as pd\n",
    "import numpy as np\n",
    "import matplotlib.pyplot as plt\n",
    "from functools import reduce\n",
    "\n",
    "plt.style.use('ggplot')"
   ]
  },
  {
   "cell_type": "code",
   "execution_count": 3,
   "metadata": {
    "collapsed": true
   },
   "outputs": [],
   "source": [
    "results = pd.read_csv(\"/Users/rob/proj/lt/gwgm/geowave-geomesa-comparative-analysis/analyze/gwgm-ca-run-results-Sept29.csv\")"
   ]
  },
  {
   "cell_type": "code",
   "execution_count": 52,
   "metadata": {
    "collapsed": false
   },
   "outputs": [],
   "source": [
    "def get_cluster_results(clusterId):\n",
    "    return results[results.clusterId == clusterId]\n",
    "\n",
    "def remove_outiers(df):\n",
    "    Q1 = df['duration'].quantile(0.25)\n",
    "    Q3 = df['duration'].quantile(0.75)\n",
    "    IQR = Q3 - Q1\n",
    "\n",
    "    #Values between Q1-1.5IQR and Q3+1.5IQR\n",
    "    return df.query('(@Q1 - 1.5 * @IQR) <= duration <= (@Q3 + 1.5 * @IQR)')\n",
    "\n",
    "def get_qn(qn, df, r=True):\n",
    "    q = df[df.queryName.str.contains(qn)]\n",
    "    if r:\n",
    "        return remove_outiers(q)\n",
    "    else:\n",
    "        return q"
   ]
  },
  {
   "cell_type": "code",
   "execution_count": 53,
   "metadata": {
    "collapsed": false
   },
   "outputs": [],
   "source": [
    "gm_default = get_cluster_results(\"j-2KONORTYS0CUG\")\n",
    "gw_default = get_cluster_results(\"j-16UW0FDHI16TV\")\n",
    "gm_match = get_cluster_results(\"j-3E3KPNGKVFRTK\")\n",
    "gw_match = get_cluster_results(\"j-HK05V75VYI20\")\n",
    "\n",
    "# gm = gm_default\n",
    "# gw = gw_default\n",
    "\n",
    "gm = gm_match\n",
    "gw = gw_match\n",
    "# gw_yearly_partitioned = getClusterResults(results.clusterId == \"j-HK05V75VYI20\"])\n",
    "# gw_monthly = results[results.clusterId == \"j-Q7HFJZY0XFJD\"]\n",
    "# gm_monthly = results[results.clusterId == \"j-26TWWX470OI8U\"]\n",
    "# gw_yearly_partitioned = results[results.clusterId == \"j-HK05V75VYI20\"]\n",
    "# gm_yearly = results[results.clusterId == \"j-3E3KPNGKVFRTK\"]"
   ]
  },
  {
   "cell_type": "code",
   "execution_count": 6,
   "metadata": {
    "collapsed": false,
    "scrolled": false
   },
   "outputs": [
    {
     "data": {
      "text/plain": [
       "uuid                 6894\n",
       "duration             6894\n",
       "system               6894\n",
       "timeAtFirstResult    6894\n",
       "clusterId            6894\n",
       "startTime            6894\n",
       "endTime              6894\n",
       "result               6894\n",
       "queryName            6894\n",
       "dtype: int64"
      ]
     },
     "execution_count": 6,
     "metadata": {},
     "output_type": "execute_result"
    }
   ],
   "source": [
    "# gw.head(4)\n",
    "get_qn(\"GDELT-IN-SOUTH-AMERICA-COUNTRIES-THREE-WEEKS\", gw).count()"
   ]
  },
  {
   "cell_type": "code",
   "execution_count": 38,
   "metadata": {
    "collapsed": false
   },
   "outputs": [],
   "source": [
    "pd.concat([get_qn(qn, gw_results), get_qn(qn, gm_results)]).to_csv(result_path(qn + \".csv\"))"
   ]
  },
  {
   "cell_type": "code",
   "execution_count": 54,
   "metadata": {
    "collapsed": false
   },
   "outputs": [],
   "source": [
    "# Durations\n",
    "gw_default_durations = gw_default[['queryName', \"duration\", \"result\"]].rename(columns = { \"duration\": \"gw_default_duration\"})\n",
    "gw_default_durations[\"gw_default_ttfr\"] = gw_default['timeAtFirstResult'] - gw_default['startTime']\n",
    "\n",
    "gm_default_durations = gm_default[['queryName', \"duration\"]].rename(columns = { \"duration\": \"gm_default_duration\"})\n",
    "gm_default_durations[\"gm_default_ttfr\"] = gm_default['timeAtFirstResult'] - gm_default['startTime']\n",
    "\n",
    "gw_match_durations = gw_match[['queryName', \"duration\"]].rename(columns = { \"duration\": \"gw_match_duration\"})\n",
    "gw_match_durations[\"gw_match_ttfr\"] = gw_match['timeAtFirstResult'] - gw_match['startTime']\n",
    "\n",
    "gm_match_durations = gm_match[['queryName', \"duration\"]].rename(columns = { \"duration\": \"gm_match_duration\"})\n",
    "gm_match_durations[\"gm_match_ttfr\"] = gm_match['timeAtFirstResult'] - gm_match['startTime']\n",
    "\n",
    "# gw_durations = gw_yearly_partitioned[['queryName', \"duration\"]].rename(columns = { \"duration\": \"gw_yearly_partitioned_duration\"})\n",
    "# gw_durations[\"gw_yearly_partitioned_ttfr\"] = gw_yearly_partitioned['timeAtFirstResult'] - gw_yearly_partitioned['startTime']\n",
    "\n",
    "# gm_durations = gm_yearly[['queryName', \"duration\"]].rename(columns = { \"duration\": \"gm_yearly_duration\"})\n",
    "# gm_durations[\"gm_yearly_ttfr\"] = gm_yearly['timeAtFirstResult'] - gm_yearly['startTime']\n",
    "\n",
    "# Time to first results\n",
    "# gw_monthly_ttfr = gw_monthly[['queryName']].copy()\n",
    "# gw_monthly_ttfr[\"gw_monthly_ttfr\"] = gw_monthly['timeAtFirstResult'] - gw_monthly['startTime']\n",
    "\n",
    "# gm_monthly_ttfr = gm_monthly[['queryName']].copy()\n",
    "# gm_monthly_ttfr[\"gm_monthly_ttfr\"] = gm_monthly['timeAtFirstResult'] - gm_monthly['startTime']\n",
    "\n",
    "# gw_yearly_partitioned_ttfr = gw_yearly_partitioned[['queryName']].copy()\n",
    "# gw_yearly_partitioned_ttfr[\"gw_yearly_partitioned_ttfr\"] = gw_yearly_partitioned['timeAtFirstResult'] - gw_yearly_partitioned['startTime']\n",
    "\n",
    "# gm_yearly_ttfr = gm_yearly[['queryName']].copy()\n",
    "# gm_yearly_ttfr[\"gm_yearly_ttfr\"] = gm_yearly['timeAtFirstResult'] - gm_yearly['startTime']"
   ]
  },
  {
   "cell_type": "code",
   "execution_count": 27,
   "metadata": {
    "collapsed": false
   },
   "outputs": [
    {
     "data": {
      "text/html": [
       "<div>\n",
       "<table border=\"1\" class=\"dataframe\">\n",
       "  <thead>\n",
       "    <tr style=\"text-align: right;\">\n",
       "      <th></th>\n",
       "      <th>queryName</th>\n",
       "      <th>gw_match_duration</th>\n",
       "      <th>result</th>\n",
       "      <th>gw_match_ttfr</th>\n",
       "    </tr>\n",
       "  </thead>\n",
       "  <tbody>\n",
       "    <tr>\n",
       "      <th>10</th>\n",
       "      <td>GDELT-IN-SOUTH-AMERICA-COUNTRIES-THREE-WEEKS-2...</td>\n",
       "      <td>141</td>\n",
       "      <td>1925</td>\n",
       "      <td>101</td>\n",
       "    </tr>\n",
       "    <tr>\n",
       "      <th>18</th>\n",
       "      <td>GDELT-IN-SOUTH-AMERICA-COUNTRIES-THREE-WEEKS-2...</td>\n",
       "      <td>67</td>\n",
       "      <td>100</td>\n",
       "      <td>63</td>\n",
       "    </tr>\n",
       "    <tr>\n",
       "      <th>22</th>\n",
       "      <td>GDELT-IN-CITY-BUFFERS-six-MONTHS-2013-Oslo-650-KM</td>\n",
       "      <td>479</td>\n",
       "      <td>17918</td>\n",
       "      <td>77</td>\n",
       "    </tr>\n",
       "  </tbody>\n",
       "</table>\n",
       "</div>"
      ],
      "text/plain": [
       "                                            queryName  gw_match_duration  \\\n",
       "10  GDELT-IN-SOUTH-AMERICA-COUNTRIES-THREE-WEEKS-2...                141   \n",
       "18  GDELT-IN-SOUTH-AMERICA-COUNTRIES-THREE-WEEKS-2...                 67   \n",
       "22  GDELT-IN-CITY-BUFFERS-six-MONTHS-2013-Oslo-650-KM                479   \n",
       "\n",
       "    result  gw_match_ttfr  \n",
       "10    1925            101  \n",
       "18     100             63  \n",
       "22   17918             77  "
      ]
     },
     "execution_count": 27,
     "metadata": {},
     "output_type": "execute_result"
    }
   ],
   "source": [
    "gw_match_durations.head(3)\n"
   ]
  },
  {
   "cell_type": "code",
   "execution_count": 55,
   "metadata": {
    "collapsed": false
   },
   "outputs": [
    {
     "name": "stdout",
     "output_type": "stream",
     "text": [
      "COMBINED COUNT\n",
      "queryName              8092\n",
      "gw_default_duration    8092\n",
      "result                 8092\n",
      "gw_default_ttfr        8092\n",
      "gm_default_duration    8092\n",
      "gm_default_ttfr        8092\n",
      "gw_match_duration      8092\n",
      "gw_match_ttfr          8092\n",
      "gm_match_duration      8092\n",
      "gm_match_ttfr          8092\n",
      "dtype: int64\n"
     ]
    }
   ],
   "source": [
    "df_slices = [gw_default_durations.groupby(\"queryName\").aggregate(np.mean).reset_index(),\n",
    "             gm_default_durations.groupby(\"queryName\").aggregate(np.mean).reset_index(),\n",
    "             gw_match_durations.groupby(\"queryName\").aggregate(np.mean).reset_index(),\n",
    "             gm_match_durations.groupby(\"queryName\").aggregate(np.mean).reset_index()]\n",
    "\n",
    "# df_slices = [gw_durations.groupby(\"queryName\").aggregate(np.mean).reset_index(),\n",
    "#              gm_durations.groupby(\"queryName\").aggregate(np.mean).reset_index()]\n",
    "\n",
    "# print(\"EACH COUNT:\")\n",
    "# for df in df_slices:\n",
    "#     print(df.count())\n",
    "#     print(df[\"queryName\"].unique().shape)\n",
    "    \n",
    "# print(\"Single merge count:\")\n",
    "# sm = pd.merge(df_slices[0].set_index(\"queryName\"), df_slices[1].set_index(\"queryName\"), on=\"queryName\")\n",
    "# print(sm.count())\n",
    "# print(sm[\"queryName\"].unique().shape)\n",
    "    \n",
    "combined = reduce(lambda x, y: pd.merge(x, y, on=\"queryName\"), df_slices)\n",
    "print(\"COMBINED COUNT\")\n",
    "print(combined.count())\n",
    "# combined = combined[[\"queryName\", \"result\", \n",
    "#                      \"gw_monthly_duration\", \"gw_yearly_partitioned_duration\",\n",
    "#                      \"gm_monthly_duration\", \"gm_yearly_duration\",\n",
    "#                      \"gw_monthly_ttfr\", \"gw_yearly_partitioned_ttfr\",\n",
    "#                      \"gm_monthly_ttfr\", \"gm_yearly_ttfr\"]]\n",
    "combined = combined[[\"queryName\", \"result\", \n",
    "                     \"gm_default_duration\", \"gw_default_duration\",\n",
    "                     \"gm_match_duration\", \"gw_match_duration\",\n",
    "                     \"gm_default_ttfr\", \"gw_default_ttfr\",\n",
    "                     \"gm_match_ttfr\", \"gw_match_ttfr\"]]\n",
    "\n",
    "combined = combined[combined.queryName.str.contains(\"GDELT-IN-SOUTH-AMERICA-COUNTRIES-THREE-WEEKS\")]\n"
   ]
  },
  {
   "cell_type": "code",
   "execution_count": 2,
   "metadata": {
    "collapsed": true
   },
   "outputs": [],
   "source": [
    "# combined.to_csv(\"/Users/rob/proj/lt/gwgm/geowave-geomesa-comparative-analysis/analyze/gwgm-ca-run-results-Sept27-duration_and_ttfr.csv\")\n",
    "combined= pd.read_csv(\"/Users/rob/proj/lt/gwgm/geowave-geomesa-comparative-analysis/analyze/gwgm-ca-run-results-Sept27-duration_and_ttfr.csv\")"
   ]
  },
  {
   "cell_type": "code",
   "execution_count": 43,
   "metadata": {
    "collapsed": false
   },
   "outputs": [
    {
     "data": {
      "text/plain": [
       "['GDELT',\n",
       " 'IN',\n",
       " 'SOUTH',\n",
       " 'AMERICA',\n",
       " 'COUNTRIES',\n",
       " 'THREE',\n",
       " 'WEEKS',\n",
       " '2000',\n",
       " 'APR',\n",
       " 'Argentina']"
      ]
     },
     "execution_count": 43,
     "metadata": {},
     "output_type": "execute_result"
    }
   ],
   "source": [
    "x = combined['queryName'].unique()[0]\n",
    "x.split('-')\n",
    "\n"
   ]
  },
  {
   "cell_type": "code",
   "execution_count": 56,
   "metadata": {
    "collapsed": false
   },
   "outputs": [],
   "source": [
    "grouped = combined.groupby(\"queryName\")\n",
    "agg = grouped.aggregate(np.mean)\n",
    "#agg.to_csv(\"/Users/rob/proj/lt/gwgm/geowave-geomesa-comparative-analysis/analyze/gwgm-ca-run-results-Sept27-agg-duration.csv\")"
   ]
  },
  {
   "cell_type": "code",
   "execution_count": 57,
   "metadata": {
    "collapsed": false
   },
   "outputs": [],
   "source": [
    "# Labels the month\n",
    "def label_month(row):\n",
    "    return row.queryName.upper().split('-')[7]\n",
    "  \n",
    "combined['month'] = combined.apply(label_month, axis=1)    "
   ]
  },
  {
   "cell_type": "code",
   "execution_count": 58,
   "metadata": {
    "collapsed": false
   },
   "outputs": [],
   "source": [
    "# Labels the country\n",
    "def label_country(row):\n",
    "    return '-'.join(row.queryName.upper().split('-')[9:])\n",
    "\n",
    "# combined.apply(label_size, axis=1).unique() \n",
    "combined['country'] = combined.apply(label_country, axis=1) "
   ]
  },
  {
   "cell_type": "code",
   "execution_count": 59,
   "metadata": {
    "collapsed": false
   },
   "outputs": [],
   "source": [
    "# Labels the year\n",
    "def label_year(row):\n",
    "    try:\n",
    "        int(row.queryName.upper().split('-')[7])\n",
    "    except:\n",
    "        print(row.queryName)\n",
    "        raise     \n",
    "\n",
    "# combined.apply(label_size, axis=1).unique() \n",
    "combined['year'] = combined.apply(label_year, axis=1) "
   ]
  },
  {
   "cell_type": "code",
   "execution_count": 60,
   "metadata": {
    "collapsed": false
   },
   "outputs": [
    {
     "name": "stdout",
     "output_type": "stream",
     "text": [
      "[  0.00000000e+00   1.30000000e+01   7.02000000e+01   1.68300000e+02\n",
      "   3.31400000e+02   5.40500000e+02   8.19600000e+02   1.35900000e+03\n",
      "   2.43980000e+03   4.08790000e+03   2.06430000e+04]\n"
     ]
    }
   ],
   "source": [
    "# Establish groups to bins\n",
    "#for group in groups.values():\n",
    "groups_to_ranges = { }\n",
    "total_ranges = None\n",
    "\n",
    "#grouped_by_result_quantiles = None\n",
    "grouped_by_result_quantiles = combined.copy()\n",
    "\n",
    "# # This does the quantiles per group\n",
    "# for group in groups.values():\n",
    "#     print(group)\n",
    "#     df = combined[combined.group == group]\n",
    "#     ranges = pd.qcut(df.result, 10)\n",
    "#     groups_to_ranges[group] = ranges.unique()\n",
    "#     df['range_group'] = pd.qcut(df.result, 10, labels=False)\n",
    "#     #print(df.dtypes)\n",
    "#     #print(\"OK\")\n",
    "#     if grouped_by_result_quantiles is None:\n",
    "#         grouped_by_result_quantiles = df\n",
    "#     else:\n",
    "#         grouped_by_result_quantiles = grouped_by_result_quantiles.append(df)\n",
    "   \n",
    "\n",
    "total_ranges = pd.qcut(combined.result, 10,retbins=True)[1]\n",
    "print(total_ranges)\n",
    "#total_ranges = ranges.unique()\n",
    "grouped_by_result_quantiles['range_group'] = pd.qcut(combined.result, 10, labels=False)\n",
    "\n",
    "\n",
    "# df.head(3)\n",
    "# bins = np.linspace(df.result.min(), df.result.max(), 10)\n",
    "\n",
    "# def label_bin(row):\n",
    "#     return np.digitize(row.result, bins)\n",
    "\n",
    "\n"
   ]
  },
  {
   "cell_type": "code",
   "execution_count": null,
   "metadata": {
    "collapsed": false
   },
   "outputs": [],
   "source": [
    "grouped_by_result_quantiles.to_csv(\"/Users/rob/proj/lt/gwgm/geowave-geomesa-comparative-analysis/analyze/gwgm-ca-run-results-Sept27-result-groups.csv\")\n",
    "# grouped_by_result_quantiles = pd.read_csv(\"/Users/rob/proj/lt/gwgm/geowave-geomesa-comparative-analysis/analyze/gwgm-ca-run-results-Sept27-result-groups.csv\")"
   ]
  },
  {
   "cell_type": "code",
   "execution_count": 68,
   "metadata": {
    "collapsed": false
   },
   "outputs": [],
   "source": [
    "%matplotlib notebook\n",
    "\n",
    "plt.style.use('ggplot')\n",
    "\n"
   ]
  },
  {
   "cell_type": "code",
   "execution_count": null,
   "metadata": {
    "collapsed": true
   },
   "outputs": [],
   "source": [
    "fig = plt.figure()\n",
    "ax = fig.add_subplot(111)\n",
    "ax.set_xlabel('result')\n",
    "ax.set_ylabel('duration (ms)')\n",
    "\n",
    "mm = m[m.result < 10000]\n",
    "wm = w[w.result < 10000]\n",
    "mlm = ml[ml.result < 10000]\n",
    "\n",
    "# sm = m\n",
    "# sw = w\n",
    "# sml = ml\n",
    "\n",
    "sm = mm\n",
    "sw = wm\n",
    "sml = mlm\n",
    "\n",
    "def do_scatter(loose=True):\n",
    "    sm.plot.scatter(x=\"result\", y=\"duration\", ax=ax, color=\"red\")\n",
    "    if loose:\n",
    "        sml.plot.scatter(x=\"result\", y=\"duration\", ax=ax, color=\"yellow\")\n",
    "    sw.plot.scatter(x=\"result\", y=\"duration\", ax=ax)\n",
    "\n",
    "\n",
    "# mm[mm.result < 50000].plot.scatter(x=\"result\", y=\"duration\", ax=ax2, color=\"red\")\n",
    "# wm[wm.result < 50000].plot.scatter(x=\"result\", y=\"duration\", ax=ax2)\n",
    "\n",
    "def do_regression(loose=True):\n",
    "    mx = sm.result.values.reshape(-1,1)\n",
    "    my = sm.duration.values.reshape(-1,1)\n",
    "\n",
    "    regr = linear_model.LinearRegression()\n",
    "    regr.fit(mx, my)\n",
    "\n",
    "    plt.plot(mx, regr.predict(mx), color='orangered', linewidth=1)\n",
    "    \n",
    "    if loose:\n",
    "        mlx = sml.result.values.reshape(-1,1)\n",
    "        mly = sml.duration.values.reshape(-1,1)\n",
    "\n",
    "        regr = linear_model.LinearRegression()\n",
    "        regr.fit(mlx, mly)\n",
    "\n",
    "        plt.plot(mlx, regr.predict(mlx), color='gold', linewidth=1)\n",
    "\n",
    "    wx = sw.result.values.reshape(-1,1)\n",
    "    wy = sw.duration.values.reshape(-1,1)\n",
    "\n",
    "    regr = linear_model.LinearRegression()\n",
    "    regr.fit(wx, wy)\n",
    "\n",
    "    plt.plot(wx, regr.predict(wx), color='lightskyblue', linewidth=1)\n",
    "\n",
    "# do_scatter(True)\n",
    "do_regression(True)\n",
    "# fig.set_figwidth(15)\n",
    "plt.show()\n",
    "\n",
    "save = True\n",
    "# fname = \"geolife-bbox-scatter-with-regression\"\n",
    "fname = \"geolife-bbox-regression-with-loose-less-than-10000\"\n",
    "if save:\n",
    "    path = \"/Users/rob/proj/lt/gwgm/geowave-geomesa-comparative-analysis/analyze/pngset/%s.png\" % fname\n",
    "    fig.savefig(path, dpi=300, bbox_inches='tight')  \n"
   ]
  },
  {
   "cell_type": "code",
   "execution_count": 67,
   "metadata": {
    "collapsed": false,
    "scrolled": false
   },
   "outputs": [
    {
     "data": {
      "image/png": "[encoded data removed]",
      "text/plain": [
       "<matplotlib.figure.Figure at 0x10b828c88>"
      ]
     },
     "metadata": {},
     "output_type": "display_data"
    }
   ],
   "source": [
    "# only_matched = grouped_by_result_quantiles[[\"result\", \"group\", \"range_group\",\n",
    "#                     \"gw_yearly_partitioned_duration\",\n",
    "#                     \"gm_yearly_duration\"]]\n",
    "\n",
    "def plot_for_group(group, save=True):\n",
    "    group_by_three = grouped_by_result_quantiles[grouped_by_result_quantiles.group == group].groupby([\"range_group\"])\n",
    "    gbt_agg = group_by_three.aggregate(np.mean)\n",
    "    # print(gbt_agg.dtypes)\n",
    "\n",
    "    # ranges = groups_to_ranges[group]\n",
    "    ranges = total_ranges\n",
    "    xticks = list(map(str, list(ranges)))\n",
    "    print(xticks)\n",
    "    (size, days) = group_idxs[group]\n",
    "    title = \"City Buffer Queries, over 10 cities: %d km, %d days\" % (size, days)\n",
    "    \n",
    "#     (fig, (ax, ax2)) = plt.subplots(nrows=2, sharey=False, sharex=True)\n",
    "\n",
    "    fig = plt.figure()\n",
    "    ax = fig.add_subplot(111)\n",
    "    ax.set_xlabel('result count')\n",
    "    ax.set_ylabel('duration (ms)')\n",
    "    plot_columns = { \"gw_yearly_partitioned_duration\" : \"GeoWave\",\n",
    "                     \"gm_yearly_duration\" : \"GeoMesa\" }\n",
    "    gbt_agg[list(plot_columns.keys())].rename(columns = plot_columns).plot.line(ax = ax, title=title)\n",
    "    \n",
    "#     fig2 = plt.figure(2)\n",
    "#     ax2 = fig2.add_subplot(111)\n",
    "#     ax2.set_xlabel('result count')\n",
    "#     ax2.set_ylabel('time to first result (ms)')  \n",
    "#     plot_columns2 = { \"gw_yearly_partitioned_ttfr\": \"GeoWave\", \"gm_yearly_ttfr\": \"GeoMesa\"}\n",
    "#     gbt_agg[list(plot_columns2.keys())].rename(columns = plot_columns2).plot.line(ax = ax2, legend = False)\n",
    "    \n",
    "    plt.xticks(range(0, 30), xticks, rotation='vertical')\n",
    "    plt.show()\n",
    "    if save:\n",
    "        path = \"/Users/rob/proj/lt/gwgm/geowave-geomesa-comparative-analysis/analyze/pngset/%03d-km-%03d-days.png\" % (size, days)\n",
    "        fig.savefig(path, dpi=300, bbox_inches='tight')\n",
    "        \n",
    "\n",
    "def plot_for_size(size, save=True):\n",
    "    grouped_for_plot = grouped_by_result_quantiles[grouped_by_result_quantiles['size'] == size].groupby([\"range_group\"])\n",
    "    gbt_agg = grouped_for_plot.aggregate(np.mean)\n",
    "    # print(gbt_agg.dtypes)\n",
    "\n",
    "    # ranges = groups_to_ranges[group]\n",
    "    ranges = total_ranges\n",
    "    xticks = list(map(str, list(ranges)))\n",
    "    # print(xticks)\n",
    "    title = \"City Buffer Queries, over 10 cities: %d KM\" % size\n",
    "    \n",
    "#     (fig, (ax, ax2)) = plt.subplots(nrows=2, sharey=False, sharex=True)\n",
    "\n",
    "    fig = plt.figure()\n",
    "    ax = fig.add_subplot(111)\n",
    "    ax.set_xlabel('result count')\n",
    "    ax.set_ylabel('duration (ms)')\n",
    "    plot_columns = { \"gw_yearly_partitioned_duration\" : \"GeoWave\",\n",
    "                     \"gm_yearly_duration\" : \"GeoMesa\" }\n",
    "    gbt_agg[list(plot_columns.keys())].rename(columns = plot_columns).plot.line(ax = ax, title=title)\n",
    "    \n",
    "#     fig2 = plt.figure(2)\n",
    "#     ax2 = fig2.add_subplot(111)\n",
    "    # ax.set_xlabel('result count')\n",
    "#     ax2.set_ylabel('time to first result (ms)')  \n",
    "#     plot_columns2 = { \"gw_yearly_partitioned_ttfr\": \"GeoWave\", \"gm_yearly_ttfr\": \"GeoMesa\"}\n",
    "#     gbt_agg[list(plot_columns2.keys())].rename(columns = plot_columns2).plot.line(ax = ax2, legend = False)\n",
    "    \n",
    "    plt.xticks(range(0, 30), xticks, rotation='vertical')\n",
    "    \n",
    "    plt.show()\n",
    "    if save:\n",
    "        path = \"/Users/rob/proj/lt/gwgm/geowave-geomesa-comparative-analysis/analyze/pngset/%03d-km.png\" % size\n",
    "        fig.savefig(path, dpi=300, bbox_inches='tight')\n",
    "        \n",
    "def plot_agg(grouped_agg,\n",
    "             title,\n",
    "             fname,\n",
    "             include_default=True,\n",
    "             include_match=True,\n",
    "             range_cap=None,\n",
    "             save=True):\n",
    "    ranges = total_ranges\n",
    "    xticks = list(map(str, list(ranges)))\n",
    "    \n",
    "#     (fig, (ax, ax2)) = plt.subplots(nrows=2, sharey=False, sharex=True)\n",
    "\n",
    "    fig = plt.figure()\n",
    "    ax = fig.add_subplot(111)\n",
    "    ax.set_xlabel('result count')\n",
    "    ax.set_ylabel('duration (ms)')\n",
    "    plot_columns = { }\n",
    "    if include_default and include_match:\n",
    "        plot_columns[\"gw_default_duration\"] = \"GeoWave - default index configuration\"\n",
    "        plot_columns[\"gm_default_duration\"] = \"GeoMesa - default index configuration\"\n",
    "        plot_columns[\"gw_match_duration\"] = \"GeoWave - matched index configuration\"\n",
    "        plot_columns[\"gm_match_duration\"] = \"GeoMesa - matched index configuration\"\n",
    "    elif include_match:\n",
    "        plot_columns[\"gw_match_duration\"] = \"GeoWave\"\n",
    "        plot_columns[\"gm_match_duration\"] = \"GeoMesa\"\n",
    "    else:\n",
    "        plot_columns[\"gw_default_duration\"] = \"GeoWave\"\n",
    "        plot_columns[\"gm_default_duration\"] = \"GeoMesa\"\n",
    "\n",
    "    grouped_agg[list(plot_columns.keys())].rename(columns = plot_columns).plot.line(ax = ax, title=title)\n",
    "    \n",
    "#     fig2 = plt.figure(2)\n",
    "#     ax2 = fig2.add_subplot(111)\n",
    "    # ax.set_xlabel('result count')\n",
    "#     ax2.set_ylabel('time to first result (ms)')  \n",
    "#     plot_columns2 = { \"gw_yearly_partitioned_ttfr\": \"GeoWave\", \"gm_yearly_ttfr\": \"GeoMesa\"}\n",
    "#     gbt_agg[list(plot_columns2.keys())].rename(columns = plot_columns2).plot.line(ax = ax2, legend = False)\n",
    "\n",
    "    if not range_cap:\n",
    "        range_cap = 10\n",
    "    plt.xticks(range(0, range_cap), xticks, rotation='vertical')\n",
    "    plt.xlabel(\"result count\")\n",
    "    plt.show()\n",
    "    if save:\n",
    "        path = \"/Users/rob/proj/lt/gwgm/geowave-geomesa-comparative-analysis/analyze/pngset/%s.png\" % fname\n",
    "        fig.savefig(path, dpi=300, bbox_inches='tight')  \n",
    "        \n",
    "def agg_for_time(days, range_cap = None):\n",
    "    df = grouped_by_result_quantiles[grouped_by_result_quantiles.days == days]\n",
    "    if range_cap:\n",
    "        df = df[df.range_group < range_cap]\n",
    "    grouped_for_plot = df.groupby([\"range_group\"])\n",
    "    \n",
    "    return grouped_for_plot.aggregate(np.mean)\n",
    "\n",
    "\n",
    "def agg_for_all(range_cap = None):\n",
    "    df = grouped_by_result_quantiles\n",
    "    if range_cap:\n",
    "        df = df[df.range_group < range_cap]\n",
    "    grouped_for_plot = df.groupby([\"range_group\"])\n",
    "    \n",
    "    return grouped_for_plot.aggregate(np.mean)  \n",
    "     \n",
    "\n",
    "# plot_for_group(1, save=False)\n",
    "# for group in groups.values():\n",
    "#     plot_for_group(group)\n",
    "\n",
    "# plot_for_time(56, save=False)\n",
    "# for days in set(map(lambda x: x[1], groups.keys())):\n",
    "#     range_cap = None\n",
    "#     # print(\"Plotting for %d\" % days)\n",
    "#     time_agg = agg_for_time(days, range_cap = range_cap)\n",
    "#     plot_agg(time_agg, \n",
    "#              \"South America Queries: %d days\" % days,\n",
    "#              \"%03d-days-default\" % days,\n",
    "#              include_default = True,\n",
    "#              include_match = False,\n",
    "#              range_cap = range_cap,\n",
    "#              save = True)\n",
    "\n",
    "range_cap = None\n",
    "overall_agg = agg_for_all(range_cap = range_cap)\n",
    "plot_agg(overall_agg, \n",
    "         \"South America Queries, overall\",\n",
    "         \"sa-overall-duration-vs-result-both\",\n",
    "         include_default = True,\n",
    "         include_match = True,\n",
    "         range_cap = range_cap,\n",
    "         save = False)\n",
    "\n",
    "# plot_for_size(550, save=False)\n",
    "# print(set(map(lambda x: x[0], groups.keys())))\n",
    "# for size in set(map(lambda x: x[0], groups.keys())):\n",
    "#     # print(\"Plotting for %d\" % days)\n",
    "#     plot_for_size(size)\n"
   ]
  },
  {
   "cell_type": "code",
   "execution_count": null,
   "metadata": {
    "collapsed": true
   },
   "outputs": [],
   "source": []
  }
 ],
 "metadata": {
  "anaconda-cloud": {},
  "kernelspec": {
   "display_name": "Python [Root]",
   "language": "python",
   "name": "Python [Root]"
  },
  "language_info": {
   "codemirror_mode": {
    "name": "ipython",
    "version": 3
   },
   "file_extension": ".py",
   "mimetype": "text/x-python",
   "name": "python",
   "nbconvert_exporter": "python",
   "pygments_lexer": "ipython3",
   "version": "3.5.2"
  }
 },
 "nbformat": 4,
 "nbformat_minor": 0
}
